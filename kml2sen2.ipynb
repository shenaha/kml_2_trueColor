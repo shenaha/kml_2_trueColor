{
 "cells": [
  {
   "cell_type": "code",
   "execution_count": 12,
   "metadata": {},
   "outputs": [],
   "source": [
    "import os\n",
    "import folium\n",
    "import geojson\n",
    "import zipfile \n",
    "import numpy as np\n",
    "import pandas as pd \n",
    "import geopandas as gpd\n",
    "from osgeo import gdal, ogr\n",
    "import matplotlib.pyplot as plt\n",
    "from IPython.display import display\n",
    "from sentinelsat import SentinelAPI,geojson_to_wkt,read_geojson"
   ]
  },
  {
   "cell_type": "code",
   "execution_count": 13,
   "metadata": {},
   "outputs": [],
   "source": [
    "kml_in = r'E:\\sentinel2\\KWT_poly.kml'\n",
    "geoJ_out = r'E:\\sentinel2\\KWT_poly.geosjon'"
   ]
  },
  {
   "cell_type": "code",
   "execution_count": 14,
   "metadata": {},
   "outputs": [],
   "source": [
    "try:\n",
    "    os.remove(geoJ_out)\n",
    "except OSError:\n",
    "    pass"
   ]
  },
  {
   "cell_type": "code",
   "execution_count": 15,
   "metadata": {},
   "outputs": [],
   "source": [
    "srcDS = gdal.OpenEx(kml_in)\n",
    "ds = gdal.VectorTranslate(geoJ_out, srcDS, format='GeoJSON')"
   ]
  },
  {
   "cell_type": "code",
   "execution_count": 16,
   "metadata": {},
   "outputs": [],
   "source": [
    "## Read GeoJSON and get center coords\n",
    "gdf = gpd.read_file(geoJ_out)\n",
    "gdf.head()\n",
    "gdf = gdf.to_crs(epsg=4326)  # EPSG 4326 = WGS84 = https://epsg.io/4326\n",
    "lon = gdf.iloc[0].geometry.centroid.y\n",
    "lat = gdf.iloc[0].geometry.centroid.x"
   ]
  },
  {
   "cell_type": "code",
   "execution_count": 18,
   "metadata": {},
   "outputs": [
    {
     "data": {
      "text/html": [
       "<div style=\"width:100%;\"><div style=\"position:relative;width:100%;height:0;padding-bottom:60%;\"><iframe src=\"data:text/html;charset=utf-8;base64,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\" style=\"position:absolute;width:100%;height:100%;left:0;top:0;border:none !important;\" allowfullscreen webkitallowfullscreen mozallowfullscreen></iframe></div></div>"
      ],
      "text/plain": [
       "<folium.folium.Map at 0x1bce72688d0>"
      ]
     },
     "execution_count": 18,
     "metadata": {},
     "output_type": "execute_result"
    }
   ],
   "source": [
    "## display in map\n",
    "m = folium.Map([lon,lat], zoom_start = 10)\n",
    "folium.GeoJson(geoJ_out).add_to(m)\n",
    "m"
   ]
  },
  {
   "cell_type": "code",
   "execution_count": 45,
   "metadata": {},
   "outputs": [],
   "source": [
    "## scihub credentials\n",
    "user = 'sneti' ## change this!\n",
    "password = '2441KFKsneha!*u' ## change this!"
   ]
  },
  {
   "cell_type": "code",
   "execution_count": 46,
   "metadata": {},
   "outputs": [
    {
     "name": "stdout",
     "output_type": "stream",
     "text": [
      "POLYGON((48.2913 28.5156,48.5565 28.5407,48.4408 28.8577,48.2090 28.7952,48.2913 28.5156))\n"
     ]
    }
   ],
   "source": [
    "api = SentinelAPI(user, password, 'https://scihub.copernicus.eu/dhus')\n",
    "footprint = geojson_to_wkt(read_geojson(geoJ_out))\n",
    "print(footprint)"
   ]
  },
  {
   "cell_type": "code",
   "execution_count": 59,
   "metadata": {},
   "outputs": [],
   "source": [
    "## search\n",
    "#startdate = '20190801'\n",
    "#enddate = '20190923'\n",
    "products = api.query(footprint,\n",
    "                        date = ('20190901', '20190915'),\n",
    "                        platformname = 'Sentinel-2',\n",
    "                        processinglevel = 'Level-2A',\n",
    "                        cloudcoverpercentage = (0, 20))"
   ]
  },
  {
   "cell_type": "code",
   "execution_count": 60,
   "metadata": {},
   "outputs": [
    {
     "name": "stdout",
     "output_type": "stream",
     "text": [
      "10\n"
     ]
    }
   ],
   "source": [
    "print(len(products))"
   ]
  },
  {
   "cell_type": "code",
   "execution_count": 61,
   "metadata": {},
   "outputs": [
    {
     "data": {
      "text/html": [
       "<div>\n",
       "<style scoped>\n",
       "    .dataframe tbody tr th:only-of-type {\n",
       "        vertical-align: middle;\n",
       "    }\n",
       "\n",
       "    .dataframe tbody tr th {\n",
       "        vertical-align: top;\n",
       "    }\n",
       "\n",
       "    .dataframe thead th {\n",
       "        text-align: right;\n",
       "    }\n",
       "</style>\n",
       "<table border=\"1\" class=\"dataframe\">\n",
       "  <thead>\n",
       "    <tr style=\"text-align: right;\">\n",
       "      <th></th>\n",
       "      <th>title</th>\n",
       "      <th>link</th>\n",
       "      <th>link_alternative</th>\n",
       "      <th>link_icon</th>\n",
       "      <th>summary</th>\n",
       "      <th>beginposition</th>\n",
       "      <th>endposition</th>\n",
       "      <th>ingestiondate</th>\n",
       "      <th>orbitnumber</th>\n",
       "      <th>relativeorbitnumber</th>\n",
       "      <th>...</th>\n",
       "      <th>processingbaseline</th>\n",
       "      <th>processinglevel</th>\n",
       "      <th>producttype</th>\n",
       "      <th>platformname</th>\n",
       "      <th>size</th>\n",
       "      <th>filename</th>\n",
       "      <th>level1cpdiidentifier</th>\n",
       "      <th>identifier</th>\n",
       "      <th>uuid</th>\n",
       "      <th>geometry</th>\n",
       "    </tr>\n",
       "  </thead>\n",
       "  <tbody>\n",
       "    <tr>\n",
       "      <th>084b2ae9-b553-4fc6-b3a7-a43d3b31aa86</th>\n",
       "      <td>S2A_MSIL2A_20190910T071621_N0213_R006_T39RTM_2...</td>\n",
       "      <td>https://scihub.copernicus.eu/dhus/odata/v1/Pro...</td>\n",
       "      <td>https://scihub.copernicus.eu/dhus/odata/v1/Pro...</td>\n",
       "      <td>https://scihub.copernicus.eu/dhus/odata/v1/Pro...</td>\n",
       "      <td>Date: 2019-09-10T07:16:21.024Z, Instrument: MS...</td>\n",
       "      <td>2019-09-10 07:16:21.024</td>\n",
       "      <td>2019-09-10 07:16:21.024</td>\n",
       "      <td>2019-09-10 18:11:59.444</td>\n",
       "      <td>22025</td>\n",
       "      <td>6</td>\n",
       "      <td>...</td>\n",
       "      <td>02.13</td>\n",
       "      <td>Level-2A</td>\n",
       "      <td>S2MSI2A</td>\n",
       "      <td>Sentinel-2</td>\n",
       "      <td>508.01 MB</td>\n",
       "      <td>S2A_MSIL2A_20190910T071621_N0213_R006_T39RTM_2...</td>\n",
       "      <td>S2A_OPER_MSI_L1C_TL_MTI__20190910T093010_A0220...</td>\n",
       "      <td>S2A_MSIL2A_20190910T071621_N0213_R006_T39RTM_2...</td>\n",
       "      <td>084b2ae9-b553-4fc6-b3a7-a43d3b31aa86</td>\n",
       "      <td>(POLYGON ((49.06025869560823 28.28828327869941...</td>\n",
       "    </tr>\n",
       "    <tr>\n",
       "      <th>2d81947d-8710-4809-912f-098e469fb90a</th>\n",
       "      <td>S2A_MSIL2A_20190903T072621_N0213_R049_T39RTM_2...</td>\n",
       "      <td>https://scihub.copernicus.eu/dhus/odata/v1/Pro...</td>\n",
       "      <td>https://scihub.copernicus.eu/dhus/odata/v1/Pro...</td>\n",
       "      <td>https://scihub.copernicus.eu/dhus/odata/v1/Pro...</td>\n",
       "      <td>Date: 2019-09-03T07:26:21.024Z, Instrument: MS...</td>\n",
       "      <td>2019-09-03 07:26:21.024</td>\n",
       "      <td>2019-09-03 07:26:21.024</td>\n",
       "      <td>2019-09-03 18:11:19.046</td>\n",
       "      <td>21925</td>\n",
       "      <td>49</td>\n",
       "      <td>...</td>\n",
       "      <td>02.13</td>\n",
       "      <td>Level-2A</td>\n",
       "      <td>S2MSI2A</td>\n",
       "      <td>Sentinel-2</td>\n",
       "      <td>271.44 MB</td>\n",
       "      <td>S2A_MSIL2A_20190903T072621_N0213_R049_T39RTM_2...</td>\n",
       "      <td>S2A_OPER_MSI_L1C_TL_MTI__20190903T094035_A0219...</td>\n",
       "      <td>S2A_MSIL2A_20190903T072621_N0213_R049_T39RTM_2...</td>\n",
       "      <td>2d81947d-8710-4809-912f-098e469fb90a</td>\n",
       "      <td>(POLYGON ((47.95214137520379 27.90341568721899...</td>\n",
       "    </tr>\n",
       "    <tr>\n",
       "      <th>301215b8-5b45-43a3-8fa5-9538b505b36d</th>\n",
       "      <td>S2B_MSIL2A_20190905T071619_N0213_R006_T39RTM_2...</td>\n",
       "      <td>https://scihub.copernicus.eu/dhus/odata/v1/Pro...</td>\n",
       "      <td>https://scihub.copernicus.eu/dhus/odata/v1/Pro...</td>\n",
       "      <td>https://scihub.copernicus.eu/dhus/odata/v1/Pro...</td>\n",
       "      <td>Date: 2019-09-05T07:16:19.024Z, Instrument: MS...</td>\n",
       "      <td>2019-09-05 07:16:19.024</td>\n",
       "      <td>2019-09-05 07:16:19.024</td>\n",
       "      <td>2019-09-05 17:27:28.963</td>\n",
       "      <td>13045</td>\n",
       "      <td>6</td>\n",
       "      <td>...</td>\n",
       "      <td>02.13</td>\n",
       "      <td>Level-2A</td>\n",
       "      <td>S2MSI2A</td>\n",
       "      <td>Sentinel-2</td>\n",
       "      <td>876.78 MB</td>\n",
       "      <td>S2B_MSIL2A_20190905T071619_N0213_R006_T39RTM_2...</td>\n",
       "      <td>S2B_OPER_MSI_L1C_TL_EPAE_20190905T101351_A0130...</td>\n",
       "      <td>S2B_MSIL2A_20190905T071619_N0213_R006_T39RTM_2...</td>\n",
       "      <td>301215b8-5b45-43a3-8fa5-9538b505b36d</td>\n",
       "      <td>(POLYGON ((47.95214137520379 27.90341568721899...</td>\n",
       "    </tr>\n",
       "    <tr>\n",
       "      <th>63c46b47-ec46-458f-8ece-e80f7c1c3fec</th>\n",
       "      <td>S2A_MSIL2A_20190913T072611_N0213_R049_T39RTN_2...</td>\n",
       "      <td>https://scihub.copernicus.eu/dhus/odata/v1/Pro...</td>\n",
       "      <td>https://scihub.copernicus.eu/dhus/odata/v1/Pro...</td>\n",
       "      <td>https://scihub.copernicus.eu/dhus/odata/v1/Pro...</td>\n",
       "      <td>Date: 2019-09-13T07:26:11.024Z, Instrument: MS...</td>\n",
       "      <td>2019-09-13 07:26:11.024</td>\n",
       "      <td>2019-09-13 07:26:11.024</td>\n",
       "      <td>2019-09-13 13:56:34.098</td>\n",
       "      <td>22068</td>\n",
       "      <td>49</td>\n",
       "      <td>...</td>\n",
       "      <td>02.13</td>\n",
       "      <td>Level-2A</td>\n",
       "      <td>S2MSI2A</td>\n",
       "      <td>Sentinel-2</td>\n",
       "      <td>496.18 MB</td>\n",
       "      <td>S2A_MSIL2A_20190913T072611_N0213_R049_T39RTN_2...</td>\n",
       "      <td>S2A_OPER_MSI_L1C_TL_SGS__20190913T092831_A0220...</td>\n",
       "      <td>S2A_MSIL2A_20190913T072611_N0213_R049_T39RTN_2...</td>\n",
       "      <td>63c46b47-ec46-458f-8ece-e80f7c1c3fec</td>\n",
       "      <td>(POLYGON ((47.92627494182379 28.80444524547399...</td>\n",
       "    </tr>\n",
       "    <tr>\n",
       "      <th>9c06406d-9c5b-42fb-99b0-6ff3c6595823</th>\n",
       "      <td>S2A_MSIL2A_20190910T071621_N0213_R006_T39RTM_2...</td>\n",
       "      <td>https://scihub.copernicus.eu/dhus/odata/v1/Pro...</td>\n",
       "      <td>https://scihub.copernicus.eu/dhus/odata/v1/Pro...</td>\n",
       "      <td>https://scihub.copernicus.eu/dhus/odata/v1/Pro...</td>\n",
       "      <td>Date: 2019-09-10T07:16:21.024Z, Instrument: MS...</td>\n",
       "      <td>2019-09-10 07:16:21.024</td>\n",
       "      <td>2019-09-10 07:16:21.024</td>\n",
       "      <td>2019-09-10 17:26:30.614</td>\n",
       "      <td>22025</td>\n",
       "      <td>6</td>\n",
       "      <td>...</td>\n",
       "      <td>02.13</td>\n",
       "      <td>Level-2A</td>\n",
       "      <td>S2MSI2A</td>\n",
       "      <td>Sentinel-2</td>\n",
       "      <td>648.77 MB</td>\n",
       "      <td>S2A_MSIL2A_20190910T071621_N0213_R006_T39RTM_2...</td>\n",
       "      <td>S2A_OPER_MSI_L1C_TL_EPAE_20190910T105206_A0220...</td>\n",
       "      <td>S2A_MSIL2A_20190910T071621_N0213_R006_T39RTM_2...</td>\n",
       "      <td>9c06406d-9c5b-42fb-99b0-6ff3c6595823</td>\n",
       "      <td>(POLYGON ((47.95214137520379 27.90341568721899...</td>\n",
       "    </tr>\n",
       "    <tr>\n",
       "      <th>a37858cb-14bd-4440-a3bf-687d0b3b8fb0</th>\n",
       "      <td>S2A_MSIL2A_20190913T072611_N0213_R049_T39RTM_2...</td>\n",
       "      <td>https://scihub.copernicus.eu/dhus/odata/v1/Pro...</td>\n",
       "      <td>https://scihub.copernicus.eu/dhus/odata/v1/Pro...</td>\n",
       "      <td>https://scihub.copernicus.eu/dhus/odata/v1/Pro...</td>\n",
       "      <td>Date: 2019-09-13T07:26:11.024Z, Instrument: MS...</td>\n",
       "      <td>2019-09-13 07:26:11.024</td>\n",
       "      <td>2019-09-13 07:26:11.024</td>\n",
       "      <td>2019-09-13 13:56:23.950</td>\n",
       "      <td>22068</td>\n",
       "      <td>49</td>\n",
       "      <td>...</td>\n",
       "      <td>02.13</td>\n",
       "      <td>Level-2A</td>\n",
       "      <td>S2MSI2A</td>\n",
       "      <td>Sentinel-2</td>\n",
       "      <td>285.36 MB</td>\n",
       "      <td>S2A_MSIL2A_20190913T072611_N0213_R049_T39RTM_2...</td>\n",
       "      <td>S2A_OPER_MSI_L1C_TL_SGS__20190913T092831_A0220...</td>\n",
       "      <td>S2A_MSIL2A_20190913T072611_N0213_R049_T39RTM_2...</td>\n",
       "      <td>a37858cb-14bd-4440-a3bf-687d0b3b8fb0</td>\n",
       "      <td>(POLYGON ((47.95214137520379 27.90341568721899...</td>\n",
       "    </tr>\n",
       "    <tr>\n",
       "      <th>afd97b8a-ae07-4d69-85b0-c904fa13a4fc</th>\n",
       "      <td>S2B_MSIL2A_20190908T072619_N0213_R049_T39RTN_2...</td>\n",
       "      <td>https://scihub.copernicus.eu/dhus/odata/v1/Pro...</td>\n",
       "      <td>https://scihub.copernicus.eu/dhus/odata/v1/Pro...</td>\n",
       "      <td>https://scihub.copernicus.eu/dhus/odata/v1/Pro...</td>\n",
       "      <td>Date: 2019-09-08T07:26:19.024Z, Instrument: MS...</td>\n",
       "      <td>2019-09-08 07:26:19.024</td>\n",
       "      <td>2019-09-08 07:26:19.024</td>\n",
       "      <td>2019-09-08 17:25:38.410</td>\n",
       "      <td>13088</td>\n",
       "      <td>49</td>\n",
       "      <td>...</td>\n",
       "      <td>02.13</td>\n",
       "      <td>Level-2A</td>\n",
       "      <td>S2MSI2A</td>\n",
       "      <td>Sentinel-2</td>\n",
       "      <td>524.54 MB</td>\n",
       "      <td>S2B_MSIL2A_20190908T072619_N0213_R049_T39RTN_2...</td>\n",
       "      <td>S2B_OPER_MSI_L1C_TL_MTI__20190908T094454_A0130...</td>\n",
       "      <td>S2B_MSIL2A_20190908T072619_N0213_R049_T39RTN_2...</td>\n",
       "      <td>afd97b8a-ae07-4d69-85b0-c904fa13a4fc</td>\n",
       "      <td>(POLYGON ((47.92627494182379 28.80444524547399...</td>\n",
       "    </tr>\n",
       "    <tr>\n",
       "      <th>c313b10c-1c83-4356-8091-a19d4e441df8</th>\n",
       "      <td>S2B_MSIL2A_20190908T072619_N0213_R049_T39RTM_2...</td>\n",
       "      <td>https://scihub.copernicus.eu/dhus/odata/v1/Pro...</td>\n",
       "      <td>https://scihub.copernicus.eu/dhus/odata/v1/Pro...</td>\n",
       "      <td>https://scihub.copernicus.eu/dhus/odata/v1/Pro...</td>\n",
       "      <td>Date: 2019-09-08T07:26:19.024Z, Instrument: MS...</td>\n",
       "      <td>2019-09-08 07:26:19.024</td>\n",
       "      <td>2019-09-08 07:26:19.024</td>\n",
       "      <td>2019-09-08 17:25:16.426</td>\n",
       "      <td>13088</td>\n",
       "      <td>49</td>\n",
       "      <td>...</td>\n",
       "      <td>02.13</td>\n",
       "      <td>Level-2A</td>\n",
       "      <td>S2MSI2A</td>\n",
       "      <td>Sentinel-2</td>\n",
       "      <td>284.56 MB</td>\n",
       "      <td>S2B_MSIL2A_20190908T072619_N0213_R049_T39RTM_2...</td>\n",
       "      <td>S2B_OPER_MSI_L1C_TL_MTI__20190908T094454_A0130...</td>\n",
       "      <td>S2B_MSIL2A_20190908T072619_N0213_R049_T39RTM_2...</td>\n",
       "      <td>c313b10c-1c83-4356-8091-a19d4e441df8</td>\n",
       "      <td>(POLYGON ((47.95214137520379 27.90341568721899...</td>\n",
       "    </tr>\n",
       "    <tr>\n",
       "      <th>d2cdc12c-49df-4b6f-bd14-1d0c86998ff8</th>\n",
       "      <td>S2A_MSIL2A_20190910T071621_N0213_R006_T39RTN_2...</td>\n",
       "      <td>https://scihub.copernicus.eu/dhus/odata/v1/Pro...</td>\n",
       "      <td>https://scihub.copernicus.eu/dhus/odata/v1/Pro...</td>\n",
       "      <td>https://scihub.copernicus.eu/dhus/odata/v1/Pro...</td>\n",
       "      <td>Date: 2019-09-10T07:16:21.024Z, Instrument: MS...</td>\n",
       "      <td>2019-09-10 07:16:21.024</td>\n",
       "      <td>2019-09-10 07:16:21.024</td>\n",
       "      <td>2019-09-10 18:12:57.355</td>\n",
       "      <td>22025</td>\n",
       "      <td>6</td>\n",
       "      <td>...</td>\n",
       "      <td>02.13</td>\n",
       "      <td>Level-2A</td>\n",
       "      <td>S2MSI2A</td>\n",
       "      <td>Sentinel-2</td>\n",
       "      <td>871.89 MB</td>\n",
       "      <td>S2A_MSIL2A_20190910T071621_N0213_R006_T39RTN_2...</td>\n",
       "      <td>S2A_OPER_MSI_L1C_TL_MTI__20190910T093010_A0220...</td>\n",
       "      <td>S2A_MSIL2A_20190910T071621_N0213_R006_T39RTN_2...</td>\n",
       "      <td>d2cdc12c-49df-4b6f-bd14-1d0c86998ff8</td>\n",
       "      <td>(POLYGON ((47.92627494182379 28.80444524547399...</td>\n",
       "    </tr>\n",
       "    <tr>\n",
       "      <th>f10a2c73-b4ff-431d-aec2-28313c42d4e6</th>\n",
       "      <td>S2B_MSIL2A_20190905T071619_N0213_R006_T39RTN_2...</td>\n",
       "      <td>https://scihub.copernicus.eu/dhus/odata/v1/Pro...</td>\n",
       "      <td>https://scihub.copernicus.eu/dhus/odata/v1/Pro...</td>\n",
       "      <td>https://scihub.copernicus.eu/dhus/odata/v1/Pro...</td>\n",
       "      <td>Date: 2019-09-05T07:16:19.024Z, Instrument: MS...</td>\n",
       "      <td>2019-09-05 07:16:19.024</td>\n",
       "      <td>2019-09-05 07:16:19.024</td>\n",
       "      <td>2019-09-05 17:32:31.601</td>\n",
       "      <td>13045</td>\n",
       "      <td>6</td>\n",
       "      <td>...</td>\n",
       "      <td>02.13</td>\n",
       "      <td>Level-2A</td>\n",
       "      <td>S2MSI2A</td>\n",
       "      <td>Sentinel-2</td>\n",
       "      <td>829.08 MB</td>\n",
       "      <td>S2B_MSIL2A_20190905T071619_N0213_R006_T39RTN_2...</td>\n",
       "      <td>S2B_OPER_MSI_L1C_TL_EPAE_20190905T101351_A0130...</td>\n",
       "      <td>S2B_MSIL2A_20190905T071619_N0213_R006_T39RTN_2...</td>\n",
       "      <td>f10a2c73-b4ff-431d-aec2-28313c42d4e6</td>\n",
       "      <td>(POLYGON ((47.92627494182379 28.80444524547399...</td>\n",
       "    </tr>\n",
       "  </tbody>\n",
       "</table>\n",
       "<p>10 rows × 35 columns</p>\n",
       "</div>"
      ],
      "text/plain": [
       "                                                                                  title  \\\n",
       "084b2ae9-b553-4fc6-b3a7-a43d3b31aa86  S2A_MSIL2A_20190910T071621_N0213_R006_T39RTM_2...   \n",
       "2d81947d-8710-4809-912f-098e469fb90a  S2A_MSIL2A_20190903T072621_N0213_R049_T39RTM_2...   \n",
       "301215b8-5b45-43a3-8fa5-9538b505b36d  S2B_MSIL2A_20190905T071619_N0213_R006_T39RTM_2...   \n",
       "63c46b47-ec46-458f-8ece-e80f7c1c3fec  S2A_MSIL2A_20190913T072611_N0213_R049_T39RTN_2...   \n",
       "9c06406d-9c5b-42fb-99b0-6ff3c6595823  S2A_MSIL2A_20190910T071621_N0213_R006_T39RTM_2...   \n",
       "a37858cb-14bd-4440-a3bf-687d0b3b8fb0  S2A_MSIL2A_20190913T072611_N0213_R049_T39RTM_2...   \n",
       "afd97b8a-ae07-4d69-85b0-c904fa13a4fc  S2B_MSIL2A_20190908T072619_N0213_R049_T39RTN_2...   \n",
       "c313b10c-1c83-4356-8091-a19d4e441df8  S2B_MSIL2A_20190908T072619_N0213_R049_T39RTM_2...   \n",
       "d2cdc12c-49df-4b6f-bd14-1d0c86998ff8  S2A_MSIL2A_20190910T071621_N0213_R006_T39RTN_2...   \n",
       "f10a2c73-b4ff-431d-aec2-28313c42d4e6  S2B_MSIL2A_20190905T071619_N0213_R006_T39RTN_2...   \n",
       "\n",
       "                                                                                   link  \\\n",
       "084b2ae9-b553-4fc6-b3a7-a43d3b31aa86  https://scihub.copernicus.eu/dhus/odata/v1/Pro...   \n",
       "2d81947d-8710-4809-912f-098e469fb90a  https://scihub.copernicus.eu/dhus/odata/v1/Pro...   \n",
       "301215b8-5b45-43a3-8fa5-9538b505b36d  https://scihub.copernicus.eu/dhus/odata/v1/Pro...   \n",
       "63c46b47-ec46-458f-8ece-e80f7c1c3fec  https://scihub.copernicus.eu/dhus/odata/v1/Pro...   \n",
       "9c06406d-9c5b-42fb-99b0-6ff3c6595823  https://scihub.copernicus.eu/dhus/odata/v1/Pro...   \n",
       "a37858cb-14bd-4440-a3bf-687d0b3b8fb0  https://scihub.copernicus.eu/dhus/odata/v1/Pro...   \n",
       "afd97b8a-ae07-4d69-85b0-c904fa13a4fc  https://scihub.copernicus.eu/dhus/odata/v1/Pro...   \n",
       "c313b10c-1c83-4356-8091-a19d4e441df8  https://scihub.copernicus.eu/dhus/odata/v1/Pro...   \n",
       "d2cdc12c-49df-4b6f-bd14-1d0c86998ff8  https://scihub.copernicus.eu/dhus/odata/v1/Pro...   \n",
       "f10a2c73-b4ff-431d-aec2-28313c42d4e6  https://scihub.copernicus.eu/dhus/odata/v1/Pro...   \n",
       "\n",
       "                                                                       link_alternative  \\\n",
       "084b2ae9-b553-4fc6-b3a7-a43d3b31aa86  https://scihub.copernicus.eu/dhus/odata/v1/Pro...   \n",
       "2d81947d-8710-4809-912f-098e469fb90a  https://scihub.copernicus.eu/dhus/odata/v1/Pro...   \n",
       "301215b8-5b45-43a3-8fa5-9538b505b36d  https://scihub.copernicus.eu/dhus/odata/v1/Pro...   \n",
       "63c46b47-ec46-458f-8ece-e80f7c1c3fec  https://scihub.copernicus.eu/dhus/odata/v1/Pro...   \n",
       "9c06406d-9c5b-42fb-99b0-6ff3c6595823  https://scihub.copernicus.eu/dhus/odata/v1/Pro...   \n",
       "a37858cb-14bd-4440-a3bf-687d0b3b8fb0  https://scihub.copernicus.eu/dhus/odata/v1/Pro...   \n",
       "afd97b8a-ae07-4d69-85b0-c904fa13a4fc  https://scihub.copernicus.eu/dhus/odata/v1/Pro...   \n",
       "c313b10c-1c83-4356-8091-a19d4e441df8  https://scihub.copernicus.eu/dhus/odata/v1/Pro...   \n",
       "d2cdc12c-49df-4b6f-bd14-1d0c86998ff8  https://scihub.copernicus.eu/dhus/odata/v1/Pro...   \n",
       "f10a2c73-b4ff-431d-aec2-28313c42d4e6  https://scihub.copernicus.eu/dhus/odata/v1/Pro...   \n",
       "\n",
       "                                                                              link_icon  \\\n",
       "084b2ae9-b553-4fc6-b3a7-a43d3b31aa86  https://scihub.copernicus.eu/dhus/odata/v1/Pro...   \n",
       "2d81947d-8710-4809-912f-098e469fb90a  https://scihub.copernicus.eu/dhus/odata/v1/Pro...   \n",
       "301215b8-5b45-43a3-8fa5-9538b505b36d  https://scihub.copernicus.eu/dhus/odata/v1/Pro...   \n",
       "63c46b47-ec46-458f-8ece-e80f7c1c3fec  https://scihub.copernicus.eu/dhus/odata/v1/Pro...   \n",
       "9c06406d-9c5b-42fb-99b0-6ff3c6595823  https://scihub.copernicus.eu/dhus/odata/v1/Pro...   \n",
       "a37858cb-14bd-4440-a3bf-687d0b3b8fb0  https://scihub.copernicus.eu/dhus/odata/v1/Pro...   \n",
       "afd97b8a-ae07-4d69-85b0-c904fa13a4fc  https://scihub.copernicus.eu/dhus/odata/v1/Pro...   \n",
       "c313b10c-1c83-4356-8091-a19d4e441df8  https://scihub.copernicus.eu/dhus/odata/v1/Pro...   \n",
       "d2cdc12c-49df-4b6f-bd14-1d0c86998ff8  https://scihub.copernicus.eu/dhus/odata/v1/Pro...   \n",
       "f10a2c73-b4ff-431d-aec2-28313c42d4e6  https://scihub.copernicus.eu/dhus/odata/v1/Pro...   \n",
       "\n",
       "                                                                                summary  \\\n",
       "084b2ae9-b553-4fc6-b3a7-a43d3b31aa86  Date: 2019-09-10T07:16:21.024Z, Instrument: MS...   \n",
       "2d81947d-8710-4809-912f-098e469fb90a  Date: 2019-09-03T07:26:21.024Z, Instrument: MS...   \n",
       "301215b8-5b45-43a3-8fa5-9538b505b36d  Date: 2019-09-05T07:16:19.024Z, Instrument: MS...   \n",
       "63c46b47-ec46-458f-8ece-e80f7c1c3fec  Date: 2019-09-13T07:26:11.024Z, Instrument: MS...   \n",
       "9c06406d-9c5b-42fb-99b0-6ff3c6595823  Date: 2019-09-10T07:16:21.024Z, Instrument: MS...   \n",
       "a37858cb-14bd-4440-a3bf-687d0b3b8fb0  Date: 2019-09-13T07:26:11.024Z, Instrument: MS...   \n",
       "afd97b8a-ae07-4d69-85b0-c904fa13a4fc  Date: 2019-09-08T07:26:19.024Z, Instrument: MS...   \n",
       "c313b10c-1c83-4356-8091-a19d4e441df8  Date: 2019-09-08T07:26:19.024Z, Instrument: MS...   \n",
       "d2cdc12c-49df-4b6f-bd14-1d0c86998ff8  Date: 2019-09-10T07:16:21.024Z, Instrument: MS...   \n",
       "f10a2c73-b4ff-431d-aec2-28313c42d4e6  Date: 2019-09-05T07:16:19.024Z, Instrument: MS...   \n",
       "\n",
       "                                               beginposition  \\\n",
       "084b2ae9-b553-4fc6-b3a7-a43d3b31aa86 2019-09-10 07:16:21.024   \n",
       "2d81947d-8710-4809-912f-098e469fb90a 2019-09-03 07:26:21.024   \n",
       "301215b8-5b45-43a3-8fa5-9538b505b36d 2019-09-05 07:16:19.024   \n",
       "63c46b47-ec46-458f-8ece-e80f7c1c3fec 2019-09-13 07:26:11.024   \n",
       "9c06406d-9c5b-42fb-99b0-6ff3c6595823 2019-09-10 07:16:21.024   \n",
       "a37858cb-14bd-4440-a3bf-687d0b3b8fb0 2019-09-13 07:26:11.024   \n",
       "afd97b8a-ae07-4d69-85b0-c904fa13a4fc 2019-09-08 07:26:19.024   \n",
       "c313b10c-1c83-4356-8091-a19d4e441df8 2019-09-08 07:26:19.024   \n",
       "d2cdc12c-49df-4b6f-bd14-1d0c86998ff8 2019-09-10 07:16:21.024   \n",
       "f10a2c73-b4ff-431d-aec2-28313c42d4e6 2019-09-05 07:16:19.024   \n",
       "\n",
       "                                                 endposition  \\\n",
       "084b2ae9-b553-4fc6-b3a7-a43d3b31aa86 2019-09-10 07:16:21.024   \n",
       "2d81947d-8710-4809-912f-098e469fb90a 2019-09-03 07:26:21.024   \n",
       "301215b8-5b45-43a3-8fa5-9538b505b36d 2019-09-05 07:16:19.024   \n",
       "63c46b47-ec46-458f-8ece-e80f7c1c3fec 2019-09-13 07:26:11.024   \n",
       "9c06406d-9c5b-42fb-99b0-6ff3c6595823 2019-09-10 07:16:21.024   \n",
       "a37858cb-14bd-4440-a3bf-687d0b3b8fb0 2019-09-13 07:26:11.024   \n",
       "afd97b8a-ae07-4d69-85b0-c904fa13a4fc 2019-09-08 07:26:19.024   \n",
       "c313b10c-1c83-4356-8091-a19d4e441df8 2019-09-08 07:26:19.024   \n",
       "d2cdc12c-49df-4b6f-bd14-1d0c86998ff8 2019-09-10 07:16:21.024   \n",
       "f10a2c73-b4ff-431d-aec2-28313c42d4e6 2019-09-05 07:16:19.024   \n",
       "\n",
       "                                               ingestiondate  orbitnumber  \\\n",
       "084b2ae9-b553-4fc6-b3a7-a43d3b31aa86 2019-09-10 18:11:59.444        22025   \n",
       "2d81947d-8710-4809-912f-098e469fb90a 2019-09-03 18:11:19.046        21925   \n",
       "301215b8-5b45-43a3-8fa5-9538b505b36d 2019-09-05 17:27:28.963        13045   \n",
       "63c46b47-ec46-458f-8ece-e80f7c1c3fec 2019-09-13 13:56:34.098        22068   \n",
       "9c06406d-9c5b-42fb-99b0-6ff3c6595823 2019-09-10 17:26:30.614        22025   \n",
       "a37858cb-14bd-4440-a3bf-687d0b3b8fb0 2019-09-13 13:56:23.950        22068   \n",
       "afd97b8a-ae07-4d69-85b0-c904fa13a4fc 2019-09-08 17:25:38.410        13088   \n",
       "c313b10c-1c83-4356-8091-a19d4e441df8 2019-09-08 17:25:16.426        13088   \n",
       "d2cdc12c-49df-4b6f-bd14-1d0c86998ff8 2019-09-10 18:12:57.355        22025   \n",
       "f10a2c73-b4ff-431d-aec2-28313c42d4e6 2019-09-05 17:32:31.601        13045   \n",
       "\n",
       "                                      relativeorbitnumber  ...  \\\n",
       "084b2ae9-b553-4fc6-b3a7-a43d3b31aa86                    6  ...   \n",
       "2d81947d-8710-4809-912f-098e469fb90a                   49  ...   \n",
       "301215b8-5b45-43a3-8fa5-9538b505b36d                    6  ...   \n",
       "63c46b47-ec46-458f-8ece-e80f7c1c3fec                   49  ...   \n",
       "9c06406d-9c5b-42fb-99b0-6ff3c6595823                    6  ...   \n",
       "a37858cb-14bd-4440-a3bf-687d0b3b8fb0                   49  ...   \n",
       "afd97b8a-ae07-4d69-85b0-c904fa13a4fc                   49  ...   \n",
       "c313b10c-1c83-4356-8091-a19d4e441df8                   49  ...   \n",
       "d2cdc12c-49df-4b6f-bd14-1d0c86998ff8                    6  ...   \n",
       "f10a2c73-b4ff-431d-aec2-28313c42d4e6                    6  ...   \n",
       "\n",
       "                                      processingbaseline  processinglevel  \\\n",
       "084b2ae9-b553-4fc6-b3a7-a43d3b31aa86               02.13         Level-2A   \n",
       "2d81947d-8710-4809-912f-098e469fb90a               02.13         Level-2A   \n",
       "301215b8-5b45-43a3-8fa5-9538b505b36d               02.13         Level-2A   \n",
       "63c46b47-ec46-458f-8ece-e80f7c1c3fec               02.13         Level-2A   \n",
       "9c06406d-9c5b-42fb-99b0-6ff3c6595823               02.13         Level-2A   \n",
       "a37858cb-14bd-4440-a3bf-687d0b3b8fb0               02.13         Level-2A   \n",
       "afd97b8a-ae07-4d69-85b0-c904fa13a4fc               02.13         Level-2A   \n",
       "c313b10c-1c83-4356-8091-a19d4e441df8               02.13         Level-2A   \n",
       "d2cdc12c-49df-4b6f-bd14-1d0c86998ff8               02.13         Level-2A   \n",
       "f10a2c73-b4ff-431d-aec2-28313c42d4e6               02.13         Level-2A   \n",
       "\n",
       "                                      producttype  platformname       size  \\\n",
       "084b2ae9-b553-4fc6-b3a7-a43d3b31aa86      S2MSI2A    Sentinel-2  508.01 MB   \n",
       "2d81947d-8710-4809-912f-098e469fb90a      S2MSI2A    Sentinel-2  271.44 MB   \n",
       "301215b8-5b45-43a3-8fa5-9538b505b36d      S2MSI2A    Sentinel-2  876.78 MB   \n",
       "63c46b47-ec46-458f-8ece-e80f7c1c3fec      S2MSI2A    Sentinel-2  496.18 MB   \n",
       "9c06406d-9c5b-42fb-99b0-6ff3c6595823      S2MSI2A    Sentinel-2  648.77 MB   \n",
       "a37858cb-14bd-4440-a3bf-687d0b3b8fb0      S2MSI2A    Sentinel-2  285.36 MB   \n",
       "afd97b8a-ae07-4d69-85b0-c904fa13a4fc      S2MSI2A    Sentinel-2  524.54 MB   \n",
       "c313b10c-1c83-4356-8091-a19d4e441df8      S2MSI2A    Sentinel-2  284.56 MB   \n",
       "d2cdc12c-49df-4b6f-bd14-1d0c86998ff8      S2MSI2A    Sentinel-2  871.89 MB   \n",
       "f10a2c73-b4ff-431d-aec2-28313c42d4e6      S2MSI2A    Sentinel-2  829.08 MB   \n",
       "\n",
       "                                                                               filename  \\\n",
       "084b2ae9-b553-4fc6-b3a7-a43d3b31aa86  S2A_MSIL2A_20190910T071621_N0213_R006_T39RTM_2...   \n",
       "2d81947d-8710-4809-912f-098e469fb90a  S2A_MSIL2A_20190903T072621_N0213_R049_T39RTM_2...   \n",
       "301215b8-5b45-43a3-8fa5-9538b505b36d  S2B_MSIL2A_20190905T071619_N0213_R006_T39RTM_2...   \n",
       "63c46b47-ec46-458f-8ece-e80f7c1c3fec  S2A_MSIL2A_20190913T072611_N0213_R049_T39RTN_2...   \n",
       "9c06406d-9c5b-42fb-99b0-6ff3c6595823  S2A_MSIL2A_20190910T071621_N0213_R006_T39RTM_2...   \n",
       "a37858cb-14bd-4440-a3bf-687d0b3b8fb0  S2A_MSIL2A_20190913T072611_N0213_R049_T39RTM_2...   \n",
       "afd97b8a-ae07-4d69-85b0-c904fa13a4fc  S2B_MSIL2A_20190908T072619_N0213_R049_T39RTN_2...   \n",
       "c313b10c-1c83-4356-8091-a19d4e441df8  S2B_MSIL2A_20190908T072619_N0213_R049_T39RTM_2...   \n",
       "d2cdc12c-49df-4b6f-bd14-1d0c86998ff8  S2A_MSIL2A_20190910T071621_N0213_R006_T39RTN_2...   \n",
       "f10a2c73-b4ff-431d-aec2-28313c42d4e6  S2B_MSIL2A_20190905T071619_N0213_R006_T39RTN_2...   \n",
       "\n",
       "                                                                   level1cpdiidentifier  \\\n",
       "084b2ae9-b553-4fc6-b3a7-a43d3b31aa86  S2A_OPER_MSI_L1C_TL_MTI__20190910T093010_A0220...   \n",
       "2d81947d-8710-4809-912f-098e469fb90a  S2A_OPER_MSI_L1C_TL_MTI__20190903T094035_A0219...   \n",
       "301215b8-5b45-43a3-8fa5-9538b505b36d  S2B_OPER_MSI_L1C_TL_EPAE_20190905T101351_A0130...   \n",
       "63c46b47-ec46-458f-8ece-e80f7c1c3fec  S2A_OPER_MSI_L1C_TL_SGS__20190913T092831_A0220...   \n",
       "9c06406d-9c5b-42fb-99b0-6ff3c6595823  S2A_OPER_MSI_L1C_TL_EPAE_20190910T105206_A0220...   \n",
       "a37858cb-14bd-4440-a3bf-687d0b3b8fb0  S2A_OPER_MSI_L1C_TL_SGS__20190913T092831_A0220...   \n",
       "afd97b8a-ae07-4d69-85b0-c904fa13a4fc  S2B_OPER_MSI_L1C_TL_MTI__20190908T094454_A0130...   \n",
       "c313b10c-1c83-4356-8091-a19d4e441df8  S2B_OPER_MSI_L1C_TL_MTI__20190908T094454_A0130...   \n",
       "d2cdc12c-49df-4b6f-bd14-1d0c86998ff8  S2A_OPER_MSI_L1C_TL_MTI__20190910T093010_A0220...   \n",
       "f10a2c73-b4ff-431d-aec2-28313c42d4e6  S2B_OPER_MSI_L1C_TL_EPAE_20190905T101351_A0130...   \n",
       "\n",
       "                                                                             identifier  \\\n",
       "084b2ae9-b553-4fc6-b3a7-a43d3b31aa86  S2A_MSIL2A_20190910T071621_N0213_R006_T39RTM_2...   \n",
       "2d81947d-8710-4809-912f-098e469fb90a  S2A_MSIL2A_20190903T072621_N0213_R049_T39RTM_2...   \n",
       "301215b8-5b45-43a3-8fa5-9538b505b36d  S2B_MSIL2A_20190905T071619_N0213_R006_T39RTM_2...   \n",
       "63c46b47-ec46-458f-8ece-e80f7c1c3fec  S2A_MSIL2A_20190913T072611_N0213_R049_T39RTN_2...   \n",
       "9c06406d-9c5b-42fb-99b0-6ff3c6595823  S2A_MSIL2A_20190910T071621_N0213_R006_T39RTM_2...   \n",
       "a37858cb-14bd-4440-a3bf-687d0b3b8fb0  S2A_MSIL2A_20190913T072611_N0213_R049_T39RTM_2...   \n",
       "afd97b8a-ae07-4d69-85b0-c904fa13a4fc  S2B_MSIL2A_20190908T072619_N0213_R049_T39RTN_2...   \n",
       "c313b10c-1c83-4356-8091-a19d4e441df8  S2B_MSIL2A_20190908T072619_N0213_R049_T39RTM_2...   \n",
       "d2cdc12c-49df-4b6f-bd14-1d0c86998ff8  S2A_MSIL2A_20190910T071621_N0213_R006_T39RTN_2...   \n",
       "f10a2c73-b4ff-431d-aec2-28313c42d4e6  S2B_MSIL2A_20190905T071619_N0213_R006_T39RTN_2...   \n",
       "\n",
       "                                                                      uuid  \\\n",
       "084b2ae9-b553-4fc6-b3a7-a43d3b31aa86  084b2ae9-b553-4fc6-b3a7-a43d3b31aa86   \n",
       "2d81947d-8710-4809-912f-098e469fb90a  2d81947d-8710-4809-912f-098e469fb90a   \n",
       "301215b8-5b45-43a3-8fa5-9538b505b36d  301215b8-5b45-43a3-8fa5-9538b505b36d   \n",
       "63c46b47-ec46-458f-8ece-e80f7c1c3fec  63c46b47-ec46-458f-8ece-e80f7c1c3fec   \n",
       "9c06406d-9c5b-42fb-99b0-6ff3c6595823  9c06406d-9c5b-42fb-99b0-6ff3c6595823   \n",
       "a37858cb-14bd-4440-a3bf-687d0b3b8fb0  a37858cb-14bd-4440-a3bf-687d0b3b8fb0   \n",
       "afd97b8a-ae07-4d69-85b0-c904fa13a4fc  afd97b8a-ae07-4d69-85b0-c904fa13a4fc   \n",
       "c313b10c-1c83-4356-8091-a19d4e441df8  c313b10c-1c83-4356-8091-a19d4e441df8   \n",
       "d2cdc12c-49df-4b6f-bd14-1d0c86998ff8  d2cdc12c-49df-4b6f-bd14-1d0c86998ff8   \n",
       "f10a2c73-b4ff-431d-aec2-28313c42d4e6  f10a2c73-b4ff-431d-aec2-28313c42d4e6   \n",
       "\n",
       "                                                                               geometry  \n",
       "084b2ae9-b553-4fc6-b3a7-a43d3b31aa86  (POLYGON ((49.06025869560823 28.28828327869941...  \n",
       "2d81947d-8710-4809-912f-098e469fb90a  (POLYGON ((47.95214137520379 27.90341568721899...  \n",
       "301215b8-5b45-43a3-8fa5-9538b505b36d  (POLYGON ((47.95214137520379 27.90341568721899...  \n",
       "63c46b47-ec46-458f-8ece-e80f7c1c3fec  (POLYGON ((47.92627494182379 28.80444524547399...  \n",
       "9c06406d-9c5b-42fb-99b0-6ff3c6595823  (POLYGON ((47.95214137520379 27.90341568721899...  \n",
       "a37858cb-14bd-4440-a3bf-687d0b3b8fb0  (POLYGON ((47.95214137520379 27.90341568721899...  \n",
       "afd97b8a-ae07-4d69-85b0-c904fa13a4fc  (POLYGON ((47.92627494182379 28.80444524547399...  \n",
       "c313b10c-1c83-4356-8091-a19d4e441df8  (POLYGON ((47.95214137520379 27.90341568721899...  \n",
       "d2cdc12c-49df-4b6f-bd14-1d0c86998ff8  (POLYGON ((47.92627494182379 28.80444524547399...  \n",
       "f10a2c73-b4ff-431d-aec2-28313c42d4e6  (POLYGON ((47.92627494182379 28.80444524547399...  \n",
       "\n",
       "[10 rows x 35 columns]"
      ]
     },
     "execution_count": 61,
     "metadata": {},
     "output_type": "execute_result"
    }
   ],
   "source": [
    "api.to_geodataframe(products)"
   ]
  },
  {
   "cell_type": "code",
   "execution_count": 62,
   "metadata": {},
   "outputs": [
    {
     "data": {
      "text/plain": [
       "<matplotlib.axes._subplots.AxesSubplot at 0x1bce9249c88>"
      ]
     },
     "execution_count": 62,
     "metadata": {},
     "output_type": "execute_result"
    },
    {
     "data": {
      "image/png": "[encoded data removed]",
      "text/plain": [
       "<Figure size 432x288 with 1 Axes>"
      ]
     },
     "metadata": {
      "needs_background": "light"
     },
     "output_type": "display_data"
    }
   ],
   "source": [
    "areas = api.to_geodataframe(products)\n",
    "areas.plot(column='uuid', cmap=None)"
   ]
  },
  {
   "cell_type": "code",
   "execution_count": 66,
   "metadata": {},
   "outputs": [
    {
     "ename": "TypeError",
     "evalue": "(\"annotate() missing 1 required positional argument: 'text'\", 'occurred at index 084b2ae9-b553-4fc6-b3a7-a43d3b31aa86')",
     "output_type": "error",
     "traceback": [
      "\u001b[1;31m---------------------------------------------------------------------------\u001b[0m",
      "\u001b[1;31mTypeError\u001b[0m                                 Traceback (most recent call last)",
      "\u001b[1;32m<ipython-input-66-bbe48094f06f>\u001b[0m in \u001b[0;36m<module>\u001b[1;34m\u001b[0m\n\u001b[0;32m      1\u001b[0m \u001b[1;31m## label the polygons\u001b[0m\u001b[1;33m\u001b[0m\u001b[1;33m\u001b[0m\u001b[0m\n\u001b[0;32m      2\u001b[0m \u001b[0max\u001b[0m \u001b[1;33m=\u001b[0m \u001b[0mareas\u001b[0m\u001b[1;33m.\u001b[0m\u001b[0mplot\u001b[0m\u001b[1;33m(\u001b[0m\u001b[0mcolumn\u001b[0m\u001b[1;33m=\u001b[0m\u001b[1;34m'uuid'\u001b[0m\u001b[1;33m,\u001b[0m \u001b[0mcmap\u001b[0m\u001b[1;33m=\u001b[0m\u001b[1;32mNone\u001b[0m\u001b[1;33m,\u001b[0m \u001b[0mfigsize\u001b[0m\u001b[1;33m=\u001b[0m\u001b[1;33m(\u001b[0m\u001b[1;36m50\u001b[0m\u001b[1;33m,\u001b[0m \u001b[1;36m20\u001b[0m\u001b[1;33m)\u001b[0m\u001b[1;33m)\u001b[0m\u001b[1;33m\u001b[0m\u001b[0m\n\u001b[1;32m----> 3\u001b[1;33m \u001b[0mareas\u001b[0m\u001b[1;33m.\u001b[0m\u001b[0mapply\u001b[0m\u001b[1;33m(\u001b[0m\u001b[1;32mlambda\u001b[0m \u001b[0mx\u001b[0m\u001b[1;33m:\u001b[0m \u001b[0max\u001b[0m\u001b[1;33m.\u001b[0m\u001b[0mannotate\u001b[0m\u001b[1;33m(\u001b[0m\u001b[0ms\u001b[0m\u001b[1;33m=\u001b[0m\u001b[0mx\u001b[0m\u001b[1;33m.\u001b[0m\u001b[0muuid\u001b[0m\u001b[1;33m,\u001b[0m \u001b[0mxy\u001b[0m\u001b[1;33m=\u001b[0m\u001b[0mx\u001b[0m\u001b[1;33m.\u001b[0m\u001b[0mgeometry\u001b[0m\u001b[1;33m.\u001b[0m\u001b[0mcentroid\u001b[0m\u001b[1;33m.\u001b[0m\u001b[0mcoords\u001b[0m\u001b[1;33m[\u001b[0m\u001b[1;36m0\u001b[0m\u001b[1;33m]\u001b[0m\u001b[1;33m,\u001b[0m \u001b[0mha\u001b[0m\u001b[1;33m=\u001b[0m\u001b[1;34m'center'\u001b[0m\u001b[1;33m)\u001b[0m\u001b[1;33m,\u001b[0m\u001b[0maxis\u001b[0m\u001b[1;33m=\u001b[0m\u001b[1;36m1\u001b[0m\u001b[1;33m)\u001b[0m\u001b[1;33m\u001b[0m\u001b[0m\n\u001b[0m",
      "\u001b[1;32mc:\\python37_x64\\lib\\site-packages\\pandas\\core\\frame.py\u001b[0m in \u001b[0;36mapply\u001b[1;34m(self, func, axis, broadcast, raw, reduce, result_type, args, **kwds)\u001b[0m\n\u001b[0;32m   6847\u001b[0m             \u001b[0mkwds\u001b[0m\u001b[1;33m=\u001b[0m\u001b[0mkwds\u001b[0m\u001b[1;33m,\u001b[0m\u001b[1;33m\u001b[0m\u001b[0m\n\u001b[0;32m   6848\u001b[0m         )\n\u001b[1;32m-> 6849\u001b[1;33m         \u001b[1;32mreturn\u001b[0m \u001b[0mop\u001b[0m\u001b[1;33m.\u001b[0m\u001b[0mget_result\u001b[0m\u001b[1;33m(\u001b[0m\u001b[1;33m)\u001b[0m\u001b[1;33m\u001b[0m\u001b[0m\n\u001b[0m\u001b[0;32m   6850\u001b[0m \u001b[1;33m\u001b[0m\u001b[0m\n\u001b[0;32m   6851\u001b[0m     \u001b[1;32mdef\u001b[0m \u001b[0mapplymap\u001b[0m\u001b[1;33m(\u001b[0m\u001b[0mself\u001b[0m\u001b[1;33m,\u001b[0m \u001b[0mfunc\u001b[0m\u001b[1;33m)\u001b[0m\u001b[1;33m:\u001b[0m\u001b[1;33m\u001b[0m\u001b[0m\n",
      "\u001b[1;32mc:\\python37_x64\\lib\\site-packages\\pandas\\core\\apply.py\u001b[0m in \u001b[0;36mget_result\u001b[1;34m(self)\u001b[0m\n\u001b[0;32m    184\u001b[0m             \u001b[1;32mreturn\u001b[0m \u001b[0mself\u001b[0m\u001b[1;33m.\u001b[0m\u001b[0mapply_raw\u001b[0m\u001b[1;33m(\u001b[0m\u001b[1;33m)\u001b[0m\u001b[1;33m\u001b[0m\u001b[0m\n\u001b[0;32m    185\u001b[0m \u001b[1;33m\u001b[0m\u001b[0m\n\u001b[1;32m--> 186\u001b[1;33m         \u001b[1;32mreturn\u001b[0m \u001b[0mself\u001b[0m\u001b[1;33m.\u001b[0m\u001b[0mapply_standard\u001b[0m\u001b[1;33m(\u001b[0m\u001b[1;33m)\u001b[0m\u001b[1;33m\u001b[0m\u001b[0m\n\u001b[0m\u001b[0;32m    187\u001b[0m \u001b[1;33m\u001b[0m\u001b[0m\n\u001b[0;32m    188\u001b[0m     \u001b[1;32mdef\u001b[0m \u001b[0mapply_empty_result\u001b[0m\u001b[1;33m(\u001b[0m\u001b[0mself\u001b[0m\u001b[1;33m)\u001b[0m\u001b[1;33m:\u001b[0m\u001b[1;33m\u001b[0m\u001b[0m\n",
      "\u001b[1;32mc:\\python37_x64\\lib\\site-packages\\pandas\\core\\apply.py\u001b[0m in \u001b[0;36mapply_standard\u001b[1;34m(self)\u001b[0m\n\u001b[0;32m    290\u001b[0m \u001b[1;33m\u001b[0m\u001b[0m\n\u001b[0;32m    291\u001b[0m         \u001b[1;31m# compute the result using the series generator\u001b[0m\u001b[1;33m\u001b[0m\u001b[1;33m\u001b[0m\u001b[0m\n\u001b[1;32m--> 292\u001b[1;33m         \u001b[0mself\u001b[0m\u001b[1;33m.\u001b[0m\u001b[0mapply_series_generator\u001b[0m\u001b[1;33m(\u001b[0m\u001b[1;33m)\u001b[0m\u001b[1;33m\u001b[0m\u001b[0m\n\u001b[0m\u001b[0;32m    293\u001b[0m \u001b[1;33m\u001b[0m\u001b[0m\n\u001b[0;32m    294\u001b[0m         \u001b[1;31m# wrap results\u001b[0m\u001b[1;33m\u001b[0m\u001b[1;33m\u001b[0m\u001b[0m\n",
      "\u001b[1;32mc:\\python37_x64\\lib\\site-packages\\pandas\\core\\apply.py\u001b[0m in \u001b[0;36mapply_series_generator\u001b[1;34m(self)\u001b[0m\n\u001b[0;32m    319\u001b[0m             \u001b[1;32mtry\u001b[0m\u001b[1;33m:\u001b[0m\u001b[1;33m\u001b[0m\u001b[0m\n\u001b[0;32m    320\u001b[0m                 \u001b[1;32mfor\u001b[0m \u001b[0mi\u001b[0m\u001b[1;33m,\u001b[0m \u001b[0mv\u001b[0m \u001b[1;32min\u001b[0m \u001b[0menumerate\u001b[0m\u001b[1;33m(\u001b[0m\u001b[0mseries_gen\u001b[0m\u001b[1;33m)\u001b[0m\u001b[1;33m:\u001b[0m\u001b[1;33m\u001b[0m\u001b[0m\n\u001b[1;32m--> 321\u001b[1;33m                     \u001b[0mresults\u001b[0m\u001b[1;33m[\u001b[0m\u001b[0mi\u001b[0m\u001b[1;33m]\u001b[0m \u001b[1;33m=\u001b[0m \u001b[0mself\u001b[0m\u001b[1;33m.\u001b[0m\u001b[0mf\u001b[0m\u001b[1;33m(\u001b[0m\u001b[0mv\u001b[0m\u001b[1;33m)\u001b[0m\u001b[1;33m\u001b[0m\u001b[0m\n\u001b[0m\u001b[0;32m    322\u001b[0m                     \u001b[0mkeys\u001b[0m\u001b[1;33m.\u001b[0m\u001b[0mappend\u001b[0m\u001b[1;33m(\u001b[0m\u001b[0mv\u001b[0m\u001b[1;33m.\u001b[0m\u001b[0mname\u001b[0m\u001b[1;33m)\u001b[0m\u001b[1;33m\u001b[0m\u001b[0m\n\u001b[0;32m    323\u001b[0m             \u001b[1;32mexcept\u001b[0m \u001b[0mException\u001b[0m \u001b[1;32mas\u001b[0m \u001b[0me\u001b[0m\u001b[1;33m:\u001b[0m\u001b[1;33m\u001b[0m\u001b[0m\n",
      "\u001b[1;32m<ipython-input-66-bbe48094f06f>\u001b[0m in \u001b[0;36m<lambda>\u001b[1;34m(x)\u001b[0m\n\u001b[0;32m      1\u001b[0m \u001b[1;31m## label the polygons\u001b[0m\u001b[1;33m\u001b[0m\u001b[1;33m\u001b[0m\u001b[0m\n\u001b[0;32m      2\u001b[0m \u001b[0max\u001b[0m \u001b[1;33m=\u001b[0m \u001b[0mareas\u001b[0m\u001b[1;33m.\u001b[0m\u001b[0mplot\u001b[0m\u001b[1;33m(\u001b[0m\u001b[0mcolumn\u001b[0m\u001b[1;33m=\u001b[0m\u001b[1;34m'uuid'\u001b[0m\u001b[1;33m,\u001b[0m \u001b[0mcmap\u001b[0m\u001b[1;33m=\u001b[0m\u001b[1;32mNone\u001b[0m\u001b[1;33m,\u001b[0m \u001b[0mfigsize\u001b[0m\u001b[1;33m=\u001b[0m\u001b[1;33m(\u001b[0m\u001b[1;36m50\u001b[0m\u001b[1;33m,\u001b[0m \u001b[1;36m20\u001b[0m\u001b[1;33m)\u001b[0m\u001b[1;33m)\u001b[0m\u001b[1;33m\u001b[0m\u001b[0m\n\u001b[1;32m----> 3\u001b[1;33m \u001b[0mareas\u001b[0m\u001b[1;33m.\u001b[0m\u001b[0mapply\u001b[0m\u001b[1;33m(\u001b[0m\u001b[1;32mlambda\u001b[0m \u001b[0mx\u001b[0m\u001b[1;33m:\u001b[0m \u001b[0max\u001b[0m\u001b[1;33m.\u001b[0m\u001b[0mannotate\u001b[0m\u001b[1;33m(\u001b[0m\u001b[0ms\u001b[0m\u001b[1;33m=\u001b[0m\u001b[0mx\u001b[0m\u001b[1;33m.\u001b[0m\u001b[0muuid\u001b[0m\u001b[1;33m,\u001b[0m \u001b[0mxy\u001b[0m\u001b[1;33m=\u001b[0m\u001b[0mx\u001b[0m\u001b[1;33m.\u001b[0m\u001b[0mgeometry\u001b[0m\u001b[1;33m.\u001b[0m\u001b[0mcentroid\u001b[0m\u001b[1;33m.\u001b[0m\u001b[0mcoords\u001b[0m\u001b[1;33m[\u001b[0m\u001b[1;36m0\u001b[0m\u001b[1;33m]\u001b[0m\u001b[1;33m,\u001b[0m \u001b[0mha\u001b[0m\u001b[1;33m=\u001b[0m\u001b[1;34m'center'\u001b[0m\u001b[1;33m)\u001b[0m\u001b[1;33m,\u001b[0m\u001b[0maxis\u001b[0m\u001b[1;33m=\u001b[0m\u001b[1;36m1\u001b[0m\u001b[1;33m)\u001b[0m\u001b[1;33m\u001b[0m\u001b[0m\n\u001b[0m",
      "\u001b[1;31mTypeError\u001b[0m: (\"annotate() missing 1 required positional argument: 'text'\", 'occurred at index 084b2ae9-b553-4fc6-b3a7-a43d3b31aa86')"
     ]
    },
    {
     "data": {
      "image/png": "[encoded data removed]",
      "text/plain": [
       "<Figure size 3600x1440 with 1 Axes>"
      ]
     },
     "metadata": {
      "needs_background": "light"
     },
     "output_type": "display_data"
    }
   ],
   "source": [
    "## label the polygons\n",
    "ax = areas.plot(column='uuid', cmap=None, figsize=(50, 20))\n",
    "areas.apply(lambda x: ax.annotate(s=x.uuid, xy=x.geometry.centroid.coords[0], ha='center'),axis=1)"
   ]
  },
  {
   "cell_type": "code",
   "execution_count": 64,
   "metadata": {},
   "outputs": [
    {
     "data": {
      "image/png": "[encoded data removed]",
      "text/plain": [
       "<Figure size 432x288 with 1 Axes>"
      ]
     },
     "metadata": {
      "needs_background": "light"
     },
     "output_type": "display_data"
    }
   ],
   "source": [
    "## Inspect vs our bounds\n",
    "gdf2 = gpd.read_file(geoJ_out)\n",
    "f, ax = plt.subplots(1)\n",
    "areas.plot(ax=ax,column='uuid',cmap=None,)\n",
    "gdf2.plot(ax=ax)\n",
    "plt.show()"
   ]
  },
  {
   "cell_type": "code",
   "execution_count": 67,
   "metadata": {},
   "outputs": [
    {
     "data": {
      "text/plain": [
       "{'id': 'f10a2c73-b4ff-431d-aec2-28313c42d4e6',\n",
       " 'title': 'S2B_MSIL2A_20190905T071619_N0213_R006_T39RTN_20190905T111326',\n",
       " 'size': 869416271,\n",
       " 'md5': '5F7653F01E8AB8BB86E183D1EADE7A63',\n",
       " 'date': datetime.datetime(2019, 9, 5, 7, 16, 19, 24000),\n",
       " 'footprint': 'POLYGON((47.90901900554822 29.377234504419867,47.923253609638834 29.433480061423367,47.960741960866656 29.581427522986885,47.99825910881376 29.729311083842784,48.0152310237752 29.79628750107283,49.03156177728837 29.81580116202728,49.05049184895457 28.825378767193317,47.92627494182379 28.804445245473985,47.90901900554822 29.377234504419867))',\n",
       " 'url': \"https://scihub.copernicus.eu/dhus/odata/v1/Products('f10a2c73-b4ff-431d-aec2-28313c42d4e6')/$value\",\n",
       " 'Online': True,\n",
       " 'Creation Date': datetime.datetime(2019, 9, 5, 17, 33, 21, 784000),\n",
       " 'Ingestion Date': datetime.datetime(2019, 9, 5, 17, 32, 31, 601000)}"
      ]
     },
     "execution_count": 67,
     "metadata": {},
     "output_type": "execute_result"
    }
   ],
   "source": [
    "## Get uuid\n",
    "api.get_product_odata('f10a2c73-b4ff-431d-aec2-28313c42d4e6')"
   ]
  },
  {
   "cell_type": "code",
   "execution_count": 69,
   "metadata": {},
   "outputs": [
    {
     "name": "stderr",
     "output_type": "stream",
     "text": [
      "Downloading: 100%|███████████████████████████████████████████████████████████████████████████| 869M/869M [02:12<00:00, 6.59MB/s]\n",
      "MD5 checksumming: 100%|███████████████████████████████████████████████████████████████████████| 869M/869M [00:04<00:00, 186MB/s]\n"
     ]
    },
    {
     "data": {
      "text/plain": [
       "{'id': 'f10a2c73-b4ff-431d-aec2-28313c42d4e6',\n",
       " 'title': 'S2B_MSIL2A_20190905T071619_N0213_R006_T39RTN_20190905T111326',\n",
       " 'size': 869416271,\n",
       " 'md5': '5F7653F01E8AB8BB86E183D1EADE7A63',\n",
       " 'date': datetime.datetime(2019, 9, 5, 7, 16, 19, 24000),\n",
       " 'footprint': 'POLYGON((47.90901900554822 29.377234504419867,47.923253609638834 29.433480061423367,47.960741960866656 29.581427522986885,47.99825910881376 29.729311083842784,48.0152310237752 29.79628750107283,49.03156177728837 29.81580116202728,49.05049184895457 28.825378767193317,47.92627494182379 28.804445245473985,47.90901900554822 29.377234504419867))',\n",
       " 'url': \"https://scihub.copernicus.eu/dhus/odata/v1/Products('f10a2c73-b4ff-431d-aec2-28313c42d4e6')/$value\",\n",
       " 'Online': True,\n",
       " 'Creation Date': datetime.datetime(2019, 9, 5, 17, 33, 21, 784000),\n",
       " 'Ingestion Date': datetime.datetime(2019, 9, 5, 17, 32, 31, 601000),\n",
       " 'path': '.\\\\S2B_MSIL2A_20190905T071619_N0213_R006_T39RTN_20190905T111326.zip',\n",
       " 'downloaded_bytes': 869416271}"
      ]
     },
     "execution_count": 69,
     "metadata": {},
     "output_type": "execute_result"
    }
   ],
   "source": [
    "## download the data\n",
    "api.download('f10a2c73-b4ff-431d-aec2-28313c42d4e6')"
   ]
  },
  {
   "cell_type": "code",
   "execution_count": 73,
   "metadata": {},
   "outputs": [],
   "source": [
    "## Get the path name so we can unzip\n",
    "path_tozip = 'E:\\sentinel2'"
   ]
  },
  {
   "cell_type": "code",
   "execution_count": 78,
   "metadata": {},
   "outputs": [
    {
     "name": "stdout",
     "output_type": "stream",
     "text": [
      "E:\\sentinel2\\S2B_MSIL2A_20190905T071619_N0213_R006_T39RTN_20190905T111326.zip\n"
     ]
    }
   ],
   "source": [
    "## unzip \n",
    "PATH = r'E:\\sentinel2'\n",
    "directory_to_extract_to =r'E:\\sentinel2'\n",
    "for root, dirs, files in os.walk(PATH):\n",
    "    for file in files:\n",
    "        if file.endswith('.zip'):\n",
    "            ### Fetch all .h5 files\n",
    "            file_to_extracted = os.path.join(root, file)\n",
    "            print(file_to_extracted)\n",
    "            with zipfile.ZipFile(file_to_extracted, 'r') as zip_ref:\n",
    "                zip_ref.extractall(directory_to_extract_to)\n",
    "            #\n",
    "            zip_ref.close()"
   ]
  },
  {
   "cell_type": "code",
   "execution_count": null,
   "metadata": {},
   "outputs": [],
   "source": [
    "import rasterio\n",
    "from rasterio import plot\n",
    "import matplotlib.pyplot as plt\n",
    "#import bands as separate 1 band raster\n",
    "## granule-->L2-->Img_data-->  OR granule-->L2-->Img_data-->R10m-->\n",
    "imagePath = r''\n",
    "imagePath = r''\n",
    "outfolder = r''\n",
    "band2 = rasterio.open(imagePath+'T39RTM_20190915T071619_B02_10m.jp2', driver='JP2OpenJPEG') #blue\n",
    "band3 = rasterio.open(imagePath+'T39RTM_20190915T071619_B03_10m.jp2', driver='JP2OpenJPEG') #green\n",
    "band4 = rasterio.open(imagePath+'T39RTM_20190915T071619_B03_10m.jp2', driver='JP2OpenJPEG') #red\n",
    "band8 = rasterio.open(imagePath+'T39RTM_20190915T071619_B08_10m.jp2', driver='JP2OpenJPEG') #nir"
   ]
  },
  {
   "cell_type": "code",
   "execution_count": 13,
   "metadata": {},
   "outputs": [],
   "source": [
    "#number of raster bands\n",
    "band4.count\n",
    "#number of raster columns\n",
    "band4.width\n",
    "#number of raster rows\n",
    "band4.height\n",
    "#plot band \n",
    "plot.show(band4)\n",
    "#type of raster byte\n",
    "band4.dtypes[0]\n",
    "#raster sytem of reference\n",
    "band4.crs\n",
    "#raster transform parameters\n",
    "band4.transform\n",
    "#raster values as matrix array\n",
    "band4.read(1)"
   ]
  },
  {
   "cell_type": "code",
   "execution_count": 13,
   "metadata": {},
   "outputs": [],
   "source": [
    "#multiple band representation\n",
    "fig, (ax1, ax2, ax3) = plt.subplots(1, 3, figsize=(12, 4))\n",
    "plot.show(band2, ax=ax1, cmap='Blues')\n",
    "plot.show(band3, ax=ax2, cmap='Greens')\n",
    "plot.show(band4, ax=ax3, cmap='Reds')\n",
    "fig.tight_layout()"
   ]
  },
  {
   "cell_type": "code",
   "execution_count": 79,
   "metadata": {},
   "outputs": [
    {
     "ename": "NameError",
     "evalue": "name 'rasterio' is not defined",
     "output_type": "error",
     "traceback": [
      "\u001b[1;31m---------------------------------------------------------------------------\u001b[0m",
      "\u001b[1;31mNameError\u001b[0m                                 Traceback (most recent call last)",
      "\u001b[1;32m<ipython-input-79-853392d054a7>\u001b[0m in \u001b[0;36m<module>\u001b[1;34m\u001b[0m\n\u001b[0;32m      1\u001b[0m \u001b[1;31m#export true color image\u001b[0m\u001b[1;33m\u001b[0m\u001b[1;33m\u001b[0m\u001b[0m\n\u001b[1;32m----> 2\u001b[1;33m trueColor = rasterio.open(outfolder+'/SentinelTrueColor2.tiff','w',driver='Gtiff',\n\u001b[0m\u001b[0;32m      3\u001b[0m                             \u001b[0mwidth\u001b[0m\u001b[1;33m=\u001b[0m\u001b[0mband4\u001b[0m\u001b[1;33m.\u001b[0m\u001b[0mwidth\u001b[0m\u001b[1;33m,\u001b[0m \u001b[0mheight\u001b[0m\u001b[1;33m=\u001b[0m\u001b[0mband4\u001b[0m\u001b[1;33m.\u001b[0m\u001b[0mheight\u001b[0m\u001b[1;33m,\u001b[0m\u001b[1;33m\u001b[0m\u001b[0m\n\u001b[0;32m      4\u001b[0m                             \u001b[0mcount\u001b[0m\u001b[1;33m=\u001b[0m\u001b[1;36m3\u001b[0m\u001b[1;33m,\u001b[0m\u001b[1;33m\u001b[0m\u001b[0m\n\u001b[0;32m      5\u001b[0m                             \u001b[0mcrs\u001b[0m\u001b[1;33m=\u001b[0m\u001b[0mband4\u001b[0m\u001b[1;33m.\u001b[0m\u001b[0mcrs\u001b[0m\u001b[1;33m,\u001b[0m\u001b[1;33m\u001b[0m\u001b[0m\n",
      "\u001b[1;31mNameError\u001b[0m: name 'rasterio' is not defined"
     ]
    }
   ],
   "source": [
    "#export true color image\n",
    "trueColor = rasterio.open(outfolder+'/SentinelTrueColor2.tiff','w',driver='Gtiff',\n",
    "                            width=band4.width, height=band4.height,\n",
    "                            count=3,\n",
    "                            crs=band4.crs,\n",
    "                            transform=band4.transform,\n",
    "                            dtype=band4.dtypes[0]\n",
    "                            )\n",
    "trueColor.write(band2.read(1),3) #blue\n",
    "trueColor.write(band3.read(1),2) #green\n",
    "trueColor.write(band4.read(1),1) #red\n",
    "trueColor.close()"
   ]
  },
  {
   "cell_type": "code",
   "execution_count": null,
   "metadata": {},
   "outputs": [],
   "source": [
    "src = rasterio.open(outfolder+'/SentinelTrueColor2.tiff\", count=3)\n",
    "plot.show(src)"
   ]
  },
  {
   "cell_type": "code",
   "execution_count": 13,
   "metadata": {},
   "outputs": [],
   "source": [
    "#export false color image\n",
    "falseColor = rasterio.open(outfolder+'/SentinelFalseColor.tiff', 'w', driver='Gtiff',\n",
    "                            width=band2.width, height=band2.height,\n",
    "                            count=3,\n",
    "                            crs=band2.crs,\n",
    "                            transform=band2.transform,\n",
    "                            dtype='uint16'                   \n",
    "                            )\n",
    "falseColor.write(band3.read(1),3) #Blue\n",
    "falseColor.write(band4.read(1),2) #Green\n",
    "falseColor.write(band8.read(1),1) #Red\n",
    "falseColor.close()"
   ]
  },
  {
   "cell_type": "code",
   "execution_count": 13,
   "metadata": {},
   "outputs": [],
   "source": [
    "#generate histogram\n",
    "trueColor = rasterio.open(outfolder+'/SentinelTrueColor2.tiff')\n",
    "plot.show_hist(trueColor, bins=50, lw=0.0, stacked=False, alpha=0.3, histtype='stepfilled', title=\"Histogram\")"
   ]
  }
 ],
 "metadata": {
  "kernelspec": {
   "display_name": "Python 3",
   "language": "python",
   "name": "python3"
  },
  "language_info": {
   "codemirror_mode": {
    "name": "ipython",
    "version": 3
   },
   "file_extension": ".py",
   "mimetype": "text/x-python",
   "name": "python",
   "nbconvert_exporter": "python",
   "pygments_lexer": "ipython3",
   "version": "3.7.0"
  }
 },
 "nbformat": 4,
 "nbformat_minor": 4
}
